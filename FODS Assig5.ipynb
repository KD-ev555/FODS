{
 "cells": [
  {
   "cell_type": "code",
   "execution_count": 1,
   "id": "a6cd3aab-c493-45d2-8df2-773cb4c4a7d0",
   "metadata": {},
   "outputs": [],
   "source": [
    "import pandas as pd\n",
    "import matplotlib.pyplot as plt\n",
    "import seaborn as sns\n",
    "import matplotlib.pyplot as plt"
   ]
  },
  {
   "cell_type": "code",
   "execution_count": 2,
   "id": "921102e0-11f7-4ef0-abc3-1ed9be22df72",
   "metadata": {},
   "outputs": [],
   "source": [
    "# loaded the dataset\n",
    "df = pd.read_csv('D:/Academics/Degree/Sem 5/FODS/Assigs/Dataset/Air_Quality.csv')"
   ]
  },
  {
   "cell_type": "markdown",
   "id": "66fe2e08-3785-436c-8b9a-bb2ee7d297c9",
   "metadata": {},
   "source": [
    "## Data Cleaning ##"
   ]
  },
  {
   "cell_type": "markdown",
   "id": "49a262c4-ab80-47ef-8573-8f93d708c800",
   "metadata": {},
   "source": [
    "**Handling Missing Vales**"
   ]
  },
  {
   "cell_type": "code",
   "execution_count": 5,
   "id": "f8d0f3f6-6a6c-4946-9b23-38321138348f",
   "metadata": {},
   "outputs": [
    {
     "data": {
      "text/html": [
       "<div>\n",
       "<style scoped>\n",
       "    .dataframe tbody tr th:only-of-type {\n",
       "        vertical-align: middle;\n",
       "    }\n",
       "\n",
       "    .dataframe tbody tr th {\n",
       "        vertical-align: top;\n",
       "    }\n",
       "\n",
       "    .dataframe thead th {\n",
       "        text-align: right;\n",
       "    }\n",
       "</style>\n",
       "<table border=\"1\" class=\"dataframe\">\n",
       "  <thead>\n",
       "    <tr style=\"text-align: right;\">\n",
       "      <th></th>\n",
       "      <th>Unique ID</th>\n",
       "      <th>Indicator ID</th>\n",
       "      <th>Name</th>\n",
       "      <th>Measure</th>\n",
       "      <th>Measure Info</th>\n",
       "      <th>Geo Type Name</th>\n",
       "      <th>Geo Join ID</th>\n",
       "      <th>Geo Place Name</th>\n",
       "      <th>Time Period</th>\n",
       "      <th>Start_Date</th>\n",
       "      <th>Data Value</th>\n",
       "      <th>Message</th>\n",
       "    </tr>\n",
       "  </thead>\n",
       "  <tbody>\n",
       "    <tr>\n",
       "      <th>0</th>\n",
       "      <td>172653</td>\n",
       "      <td>375</td>\n",
       "      <td>Nitrogen dioxide (NO2)</td>\n",
       "      <td>Mean</td>\n",
       "      <td>ppb</td>\n",
       "      <td>UHF34</td>\n",
       "      <td>203</td>\n",
       "      <td>Bedford Stuyvesant - Crown Heights</td>\n",
       "      <td>Annual Average 2011</td>\n",
       "      <td>12/01/2010</td>\n",
       "      <td>25.30</td>\n",
       "      <td>NaN</td>\n",
       "    </tr>\n",
       "    <tr>\n",
       "      <th>1</th>\n",
       "      <td>172585</td>\n",
       "      <td>375</td>\n",
       "      <td>Nitrogen dioxide (NO2)</td>\n",
       "      <td>Mean</td>\n",
       "      <td>ppb</td>\n",
       "      <td>UHF34</td>\n",
       "      <td>203</td>\n",
       "      <td>Bedford Stuyvesant - Crown Heights</td>\n",
       "      <td>Annual Average 2009</td>\n",
       "      <td>12/01/2008</td>\n",
       "      <td>26.93</td>\n",
       "      <td>NaN</td>\n",
       "    </tr>\n",
       "    <tr>\n",
       "      <th>2</th>\n",
       "      <td>336637</td>\n",
       "      <td>375</td>\n",
       "      <td>Nitrogen dioxide (NO2)</td>\n",
       "      <td>Mean</td>\n",
       "      <td>ppb</td>\n",
       "      <td>UHF34</td>\n",
       "      <td>204</td>\n",
       "      <td>East New York</td>\n",
       "      <td>Annual Average 2015</td>\n",
       "      <td>01/01/2015</td>\n",
       "      <td>19.09</td>\n",
       "      <td>NaN</td>\n",
       "    </tr>\n",
       "    <tr>\n",
       "      <th>3</th>\n",
       "      <td>336622</td>\n",
       "      <td>375</td>\n",
       "      <td>Nitrogen dioxide (NO2)</td>\n",
       "      <td>Mean</td>\n",
       "      <td>ppb</td>\n",
       "      <td>UHF34</td>\n",
       "      <td>103</td>\n",
       "      <td>Fordham - Bronx Pk</td>\n",
       "      <td>Annual Average 2015</td>\n",
       "      <td>01/01/2015</td>\n",
       "      <td>19.76</td>\n",
       "      <td>NaN</td>\n",
       "    </tr>\n",
       "    <tr>\n",
       "      <th>4</th>\n",
       "      <td>172582</td>\n",
       "      <td>375</td>\n",
       "      <td>Nitrogen dioxide (NO2)</td>\n",
       "      <td>Mean</td>\n",
       "      <td>ppb</td>\n",
       "      <td>UHF34</td>\n",
       "      <td>104</td>\n",
       "      <td>Pelham - Throgs Neck</td>\n",
       "      <td>Annual Average 2009</td>\n",
       "      <td>12/01/2008</td>\n",
       "      <td>22.83</td>\n",
       "      <td>NaN</td>\n",
       "    </tr>\n",
       "    <tr>\n",
       "      <th>5</th>\n",
       "      <td>667327</td>\n",
       "      <td>375</td>\n",
       "      <td>Nitrogen dioxide (NO2)</td>\n",
       "      <td>Mean</td>\n",
       "      <td>ppb</td>\n",
       "      <td>UHF34</td>\n",
       "      <td>104</td>\n",
       "      <td>Pelham - Throgs Neck</td>\n",
       "      <td>Annual Average 2020</td>\n",
       "      <td>01/01/2020</td>\n",
       "      <td>16.19</td>\n",
       "      <td>NaN</td>\n",
       "    </tr>\n",
       "    <tr>\n",
       "      <th>6</th>\n",
       "      <td>172607</td>\n",
       "      <td>375</td>\n",
       "      <td>Nitrogen dioxide (NO2)</td>\n",
       "      <td>Mean</td>\n",
       "      <td>ppb</td>\n",
       "      <td>UHF34</td>\n",
       "      <td>306308</td>\n",
       "      <td>Chelsea-Village</td>\n",
       "      <td>Annual Average 2009</td>\n",
       "      <td>12/01/2008</td>\n",
       "      <td>38.16</td>\n",
       "      <td>NaN</td>\n",
       "    </tr>\n",
       "    <tr>\n",
       "      <th>7</th>\n",
       "      <td>172675</td>\n",
       "      <td>375</td>\n",
       "      <td>Nitrogen dioxide (NO2)</td>\n",
       "      <td>Mean</td>\n",
       "      <td>ppb</td>\n",
       "      <td>UHF34</td>\n",
       "      <td>306308</td>\n",
       "      <td>Chelsea-Village</td>\n",
       "      <td>Annual Average 2011</td>\n",
       "      <td>12/01/2010</td>\n",
       "      <td>34.96</td>\n",
       "      <td>NaN</td>\n",
       "    </tr>\n",
       "    <tr>\n",
       "      <th>8</th>\n",
       "      <td>175345</td>\n",
       "      <td>375</td>\n",
       "      <td>Nitrogen dioxide (NO2)</td>\n",
       "      <td>Mean</td>\n",
       "      <td>ppb</td>\n",
       "      <td>UHF42</td>\n",
       "      <td>206</td>\n",
       "      <td>Borough Park</td>\n",
       "      <td>Winter 2010-11</td>\n",
       "      <td>12/01/2010</td>\n",
       "      <td>30.10</td>\n",
       "      <td>NaN</td>\n",
       "    </tr>\n",
       "    <tr>\n",
       "      <th>9</th>\n",
       "      <td>176689</td>\n",
       "      <td>375</td>\n",
       "      <td>Nitrogen dioxide (NO2)</td>\n",
       "      <td>Mean</td>\n",
       "      <td>ppb</td>\n",
       "      <td>UHF42</td>\n",
       "      <td>206</td>\n",
       "      <td>Borough Park</td>\n",
       "      <td>Annual Average 2013</td>\n",
       "      <td>12/01/2012</td>\n",
       "      <td>20.23</td>\n",
       "      <td>NaN</td>\n",
       "    </tr>\n",
       "  </tbody>\n",
       "</table>\n",
       "</div>"
      ],
      "text/plain": [
       "   Unique ID  Indicator ID                    Name Measure Measure Info  \\\n",
       "0     172653           375  Nitrogen dioxide (NO2)    Mean          ppb   \n",
       "1     172585           375  Nitrogen dioxide (NO2)    Mean          ppb   \n",
       "2     336637           375  Nitrogen dioxide (NO2)    Mean          ppb   \n",
       "3     336622           375  Nitrogen dioxide (NO2)    Mean          ppb   \n",
       "4     172582           375  Nitrogen dioxide (NO2)    Mean          ppb   \n",
       "5     667327           375  Nitrogen dioxide (NO2)    Mean          ppb   \n",
       "6     172607           375  Nitrogen dioxide (NO2)    Mean          ppb   \n",
       "7     172675           375  Nitrogen dioxide (NO2)    Mean          ppb   \n",
       "8     175345           375  Nitrogen dioxide (NO2)    Mean          ppb   \n",
       "9     176689           375  Nitrogen dioxide (NO2)    Mean          ppb   \n",
       "\n",
       "  Geo Type Name  Geo Join ID                      Geo Place Name  \\\n",
       "0         UHF34          203  Bedford Stuyvesant - Crown Heights   \n",
       "1         UHF34          203  Bedford Stuyvesant - Crown Heights   \n",
       "2         UHF34          204                       East New York   \n",
       "3         UHF34          103                  Fordham - Bronx Pk   \n",
       "4         UHF34          104                Pelham - Throgs Neck   \n",
       "5         UHF34          104                Pelham - Throgs Neck   \n",
       "6         UHF34       306308                     Chelsea-Village   \n",
       "7         UHF34       306308                     Chelsea-Village   \n",
       "8         UHF42          206                        Borough Park   \n",
       "9         UHF42          206                        Borough Park   \n",
       "\n",
       "           Time Period  Start_Date  Data Value  Message  \n",
       "0  Annual Average 2011  12/01/2010       25.30      NaN  \n",
       "1  Annual Average 2009  12/01/2008       26.93      NaN  \n",
       "2  Annual Average 2015  01/01/2015       19.09      NaN  \n",
       "3  Annual Average 2015  01/01/2015       19.76      NaN  \n",
       "4  Annual Average 2009  12/01/2008       22.83      NaN  \n",
       "5  Annual Average 2020  01/01/2020       16.19      NaN  \n",
       "6  Annual Average 2009  12/01/2008       38.16      NaN  \n",
       "7  Annual Average 2011  12/01/2010       34.96      NaN  \n",
       "8       Winter 2010-11  12/01/2010       30.10      NaN  \n",
       "9  Annual Average 2013  12/01/2012       20.23      NaN  "
      ]
     },
     "execution_count": 5,
     "metadata": {},
     "output_type": "execute_result"
    }
   ],
   "source": [
    "df.head(10)"
   ]
  },
  {
   "cell_type": "code",
   "execution_count": 6,
   "id": "43f034eb-d5a4-4531-b1b5-bf338182bdcc",
   "metadata": {},
   "outputs": [
    {
     "name": "stdout",
     "output_type": "stream",
     "text": [
      "<class 'pandas.core.frame.DataFrame'>\n",
      "RangeIndex: 16218 entries, 0 to 16217\n",
      "Data columns (total 12 columns):\n",
      " #   Column          Non-Null Count  Dtype  \n",
      "---  ------          --------------  -----  \n",
      " 0   Unique ID       16218 non-null  int64  \n",
      " 1   Indicator ID    16218 non-null  int64  \n",
      " 2   Name            16218 non-null  object \n",
      " 3   Measure         16218 non-null  object \n",
      " 4   Measure Info    16218 non-null  object \n",
      " 5   Geo Type Name   16218 non-null  object \n",
      " 6   Geo Join ID     16218 non-null  int64  \n",
      " 7   Geo Place Name  16218 non-null  object \n",
      " 8   Time Period     16218 non-null  object \n",
      " 9   Start_Date      16218 non-null  object \n",
      " 10  Data Value      16218 non-null  float64\n",
      " 11  Message         0 non-null      float64\n",
      "dtypes: float64(2), int64(3), object(7)\n",
      "memory usage: 1.5+ MB\n"
     ]
    }
   ],
   "source": [
    "# check the dataset information\n",
    "df.info()"
   ]
  },
  {
   "cell_type": "markdown",
   "id": "2606d8de-64e3-482e-95de-59d9a87e3040",
   "metadata": {},
   "source": [
    "message column is whole null column, it contain 100% null values"
   ]
  },
  {
   "cell_type": "code",
   "execution_count": 8,
   "id": "b76de799-2921-433c-a3a9-cc15cb8707c9",
   "metadata": {},
   "outputs": [
    {
     "name": "stdout",
     "output_type": "stream",
     "text": [
      "Unique ID           0.0\n",
      "Indicator ID        0.0\n",
      "Name                0.0\n",
      "Measure             0.0\n",
      "Measure Info        0.0\n",
      "Geo Type Name       0.0\n",
      "Geo Join ID         0.0\n",
      "Geo Place Name      0.0\n",
      "Time Period         0.0\n",
      "Start_Date          0.0\n",
      "Data Value          0.0\n",
      "Message           100.0\n",
      "dtype: float64\n"
     ]
    }
   ],
   "source": [
    "# check the percentage\n",
    "percentage_missing = df.isna().sum() / len(df)*100\n",
    "print(percentage_missing)"
   ]
  },
  {
   "cell_type": "code",
   "execution_count": 9,
   "id": "c98ece98-578a-48dd-8985-8ab7e4bc9ee1",
   "metadata": {},
   "outputs": [
    {
     "data": {
      "text/plain": [
       "<Axes: >"
      ]
     },
     "execution_count": 9,
     "metadata": {},
     "output_type": "execute_result"
    },
    {
     "data": {
      "image/png": "[encoded data removed]",
      "text/plain": [
       "<Figure size 1000x600 with 2 Axes>"
      ]
     },
     "metadata": {},
     "output_type": "display_data"
    }
   ],
   "source": [
    "# Visualizing Missing Data using a seaborn heatmap.\n",
    "plt.figure(figsize=(10,6))\n",
    "sns.heatmap(df.isna().transpose(),\n",
    "            cmap=\"YlGnBu\",\n",
    "            cbar_kws={'label': 'Missing Data'})"
   ]
  },
  {
   "cell_type": "code",
   "execution_count": 10,
   "id": "f9f4e3c3-4b52-4f91-bc97-2f0e8af44c94",
   "metadata": {},
   "outputs": [
    {
     "name": "stdout",
     "output_type": "stream",
     "text": [
      "   Unique ID  Indicator ID                    Name Measure Measure Info  \\\n",
      "0     172653           375  Nitrogen dioxide (NO2)    Mean          ppb   \n",
      "1     172585           375  Nitrogen dioxide (NO2)    Mean          ppb   \n",
      "2     336637           375  Nitrogen dioxide (NO2)    Mean          ppb   \n",
      "3     336622           375  Nitrogen dioxide (NO2)    Mean          ppb   \n",
      "4     172582           375  Nitrogen dioxide (NO2)    Mean          ppb   \n",
      "\n",
      "  Geo Type Name  Geo Join ID                      Geo Place Name  \\\n",
      "0         UHF34          203  Bedford Stuyvesant - Crown Heights   \n",
      "1         UHF34          203  Bedford Stuyvesant - Crown Heights   \n",
      "2         UHF34          204                       East New York   \n",
      "3         UHF34          103                  Fordham - Bronx Pk   \n",
      "4         UHF34          104                Pelham - Throgs Neck   \n",
      "\n",
      "           Time Period  Start_Date  Data Value  \n",
      "0  Annual Average 2011  12/01/2010       25.30  \n",
      "1  Annual Average 2009  12/01/2008       26.93  \n",
      "2  Annual Average 2015  01/01/2015       19.09  \n",
      "3  Annual Average 2015  01/01/2015       19.76  \n",
      "4  Annual Average 2009  12/01/2008       22.83  \n"
     ]
    }
   ],
   "source": [
    "# Dropping the message column as it contains only null values\n",
    "df_cleaned = df.drop(columns=['Message'])\n",
    "# let's verify the changes\n",
    "print(df_cleaned.head())"
   ]
  },
  {
   "cell_type": "code",
   "execution_count": 11,
   "id": "1b5a4d9a-1202-4582-b930-cab80a04810b",
   "metadata": {},
   "outputs": [
    {
     "name": "stdout",
     "output_type": "stream",
     "text": [
      "<class 'pandas.core.frame.DataFrame'>\n",
      "RangeIndex: 16218 entries, 0 to 16217\n",
      "Data columns (total 11 columns):\n",
      " #   Column          Non-Null Count  Dtype  \n",
      "---  ------          --------------  -----  \n",
      " 0   Unique ID       16218 non-null  int64  \n",
      " 1   Indicator ID    16218 non-null  int64  \n",
      " 2   Name            16218 non-null  object \n",
      " 3   Measure         16218 non-null  object \n",
      " 4   Measure Info    16218 non-null  object \n",
      " 5   Geo Type Name   16218 non-null  object \n",
      " 6   Geo Join ID     16218 non-null  int64  \n",
      " 7   Geo Place Name  16218 non-null  object \n",
      " 8   Time Period     16218 non-null  object \n",
      " 9   Start_Date      16218 non-null  object \n",
      " 10  Data Value      16218 non-null  float64\n",
      "dtypes: float64(1), int64(3), object(7)\n",
      "memory usage: 1.4+ MB\n"
     ]
    }
   ],
   "source": [
    "df_cleaned.info()"
   ]
  },
  {
   "cell_type": "code",
   "execution_count": 12,
   "id": "6ff71b9d-2e01-49ef-8f7e-fdf95bb4b904",
   "metadata": {},
   "outputs": [
    {
     "name": "stdout",
     "output_type": "stream",
     "text": [
      "Unique ID         0\n",
      "Indicator ID      0\n",
      "Name              0\n",
      "Measure           0\n",
      "Measure Info      0\n",
      "Geo Type Name     0\n",
      "Geo Join ID       0\n",
      "Geo Place Name    0\n",
      "Time Period       0\n",
      "Start_Date        0\n",
      "Data Value        0\n",
      "dtype: int64\n"
     ]
    }
   ],
   "source": [
    "# checking for missing values in all columns in dataset\n",
    "missing_values = df_cleaned.isnull().sum()\n",
    "print(missing_values)"
   ]
  },
  {
   "cell_type": "code",
   "execution_count": 13,
   "id": "bc727910-be7d-4836-9389-133bc521a69b",
   "metadata": {},
   "outputs": [
    {
     "data": {
      "text/plain": [
       "<Axes: >"
      ]
     },
     "execution_count": 13,
     "metadata": {},
     "output_type": "execute_result"
    },
    {
     "data": {
      "image/png": "[encoded data removed]",
      "text/plain": [
       "<Figure size 1000x600 with 2 Axes>"
      ]
     },
     "metadata": {},
     "output_type": "display_data"
    }
   ],
   "source": [
    "# Visualizing Missing Data using a seaborn heatmap.\n",
    "plt.figure(figsize=(10,6))\n",
    "sns.heatmap(df_cleaned.isna().transpose(),\n",
    "            cmap=\"YlGnBu\",\n",
    "            cbar_kws={'label': 'Missing Data'})"
   ]
  },
  {
   "cell_type": "markdown",
   "id": "71db306e-2111-4724-b8a9-082f914abc67",
   "metadata": {},
   "source": [
    "There are not any missing/null values now"
   ]
  },
  {
   "cell_type": "markdown",
   "id": "51f7eb8b-5f5e-4c43-915e-9714989d6c31",
   "metadata": {},
   "source": [
    "**Convert date columns such as \"Start_Date\" to a proper datetime format.**"
   ]
  },
  {
   "cell_type": "code",
   "execution_count": 16,
   "id": "637d62b7-03e5-4df5-a2b1-0f23b4632347",
   "metadata": {},
   "outputs": [
    {
     "name": "stdout",
     "output_type": "stream",
     "text": [
      "Unique ID                  int64\n",
      "Indicator ID               int64\n",
      "Name                      object\n",
      "Measure                   object\n",
      "Measure Info              object\n",
      "Geo Type Name             object\n",
      "Geo Join ID                int64\n",
      "Geo Place Name            object\n",
      "Time Period               object\n",
      "Start_Date        datetime64[ns]\n",
      "Data Value               float64\n",
      "dtype: object\n"
     ]
    }
   ],
   "source": [
    "# Convert 'Start_Date' to datetime format\n",
    "df_cleaned['Start_Date'] = pd.to_datetime(df_cleaned['Start_Date'])\n",
    "\n",
    "# Verify data types\n",
    "print(df_cleaned.dtypes)"
   ]
  },
  {
   "cell_type": "code",
   "execution_count": 17,
   "id": "74108653-49f6-48b5-8fce-b74f555ffbf4",
   "metadata": {},
   "outputs": [
    {
     "data": {
      "text/html": [
       "<div>\n",
       "<style scoped>\n",
       "    .dataframe tbody tr th:only-of-type {\n",
       "        vertical-align: middle;\n",
       "    }\n",
       "\n",
       "    .dataframe tbody tr th {\n",
       "        vertical-align: top;\n",
       "    }\n",
       "\n",
       "    .dataframe thead th {\n",
       "        text-align: right;\n",
       "    }\n",
       "</style>\n",
       "<table border=\"1\" class=\"dataframe\">\n",
       "  <thead>\n",
       "    <tr style=\"text-align: right;\">\n",
       "      <th></th>\n",
       "      <th>Unique ID</th>\n",
       "      <th>Indicator ID</th>\n",
       "      <th>Name</th>\n",
       "      <th>Measure</th>\n",
       "      <th>Measure Info</th>\n",
       "      <th>Geo Type Name</th>\n",
       "      <th>Geo Join ID</th>\n",
       "      <th>Geo Place Name</th>\n",
       "      <th>Time Period</th>\n",
       "      <th>Start_Date</th>\n",
       "      <th>Data Value</th>\n",
       "    </tr>\n",
       "  </thead>\n",
       "  <tbody>\n",
       "    <tr>\n",
       "      <th>0</th>\n",
       "      <td>172653</td>\n",
       "      <td>375</td>\n",
       "      <td>Nitrogen dioxide (NO2)</td>\n",
       "      <td>Mean</td>\n",
       "      <td>ppb</td>\n",
       "      <td>UHF34</td>\n",
       "      <td>203</td>\n",
       "      <td>Bedford Stuyvesant - Crown Heights</td>\n",
       "      <td>Annual Average 2011</td>\n",
       "      <td>2010-12-01</td>\n",
       "      <td>25.30</td>\n",
       "    </tr>\n",
       "    <tr>\n",
       "      <th>1</th>\n",
       "      <td>172585</td>\n",
       "      <td>375</td>\n",
       "      <td>Nitrogen dioxide (NO2)</td>\n",
       "      <td>Mean</td>\n",
       "      <td>ppb</td>\n",
       "      <td>UHF34</td>\n",
       "      <td>203</td>\n",
       "      <td>Bedford Stuyvesant - Crown Heights</td>\n",
       "      <td>Annual Average 2009</td>\n",
       "      <td>2008-12-01</td>\n",
       "      <td>26.93</td>\n",
       "    </tr>\n",
       "    <tr>\n",
       "      <th>2</th>\n",
       "      <td>336637</td>\n",
       "      <td>375</td>\n",
       "      <td>Nitrogen dioxide (NO2)</td>\n",
       "      <td>Mean</td>\n",
       "      <td>ppb</td>\n",
       "      <td>UHF34</td>\n",
       "      <td>204</td>\n",
       "      <td>East New York</td>\n",
       "      <td>Annual Average 2015</td>\n",
       "      <td>2015-01-01</td>\n",
       "      <td>19.09</td>\n",
       "    </tr>\n",
       "    <tr>\n",
       "      <th>3</th>\n",
       "      <td>336622</td>\n",
       "      <td>375</td>\n",
       "      <td>Nitrogen dioxide (NO2)</td>\n",
       "      <td>Mean</td>\n",
       "      <td>ppb</td>\n",
       "      <td>UHF34</td>\n",
       "      <td>103</td>\n",
       "      <td>Fordham - Bronx Pk</td>\n",
       "      <td>Annual Average 2015</td>\n",
       "      <td>2015-01-01</td>\n",
       "      <td>19.76</td>\n",
       "    </tr>\n",
       "    <tr>\n",
       "      <th>4</th>\n",
       "      <td>172582</td>\n",
       "      <td>375</td>\n",
       "      <td>Nitrogen dioxide (NO2)</td>\n",
       "      <td>Mean</td>\n",
       "      <td>ppb</td>\n",
       "      <td>UHF34</td>\n",
       "      <td>104</td>\n",
       "      <td>Pelham - Throgs Neck</td>\n",
       "      <td>Annual Average 2009</td>\n",
       "      <td>2008-12-01</td>\n",
       "      <td>22.83</td>\n",
       "    </tr>\n",
       "  </tbody>\n",
       "</table>\n",
       "</div>"
      ],
      "text/plain": [
       "   Unique ID  Indicator ID                    Name Measure Measure Info  \\\n",
       "0     172653           375  Nitrogen dioxide (NO2)    Mean          ppb   \n",
       "1     172585           375  Nitrogen dioxide (NO2)    Mean          ppb   \n",
       "2     336637           375  Nitrogen dioxide (NO2)    Mean          ppb   \n",
       "3     336622           375  Nitrogen dioxide (NO2)    Mean          ppb   \n",
       "4     172582           375  Nitrogen dioxide (NO2)    Mean          ppb   \n",
       "\n",
       "  Geo Type Name  Geo Join ID                      Geo Place Name  \\\n",
       "0         UHF34          203  Bedford Stuyvesant - Crown Heights   \n",
       "1         UHF34          203  Bedford Stuyvesant - Crown Heights   \n",
       "2         UHF34          204                       East New York   \n",
       "3         UHF34          103                  Fordham - Bronx Pk   \n",
       "4         UHF34          104                Pelham - Throgs Neck   \n",
       "\n",
       "           Time Period Start_Date  Data Value  \n",
       "0  Annual Average 2011 2010-12-01       25.30  \n",
       "1  Annual Average 2009 2008-12-01       26.93  \n",
       "2  Annual Average 2015 2015-01-01       19.09  \n",
       "3  Annual Average 2015 2015-01-01       19.76  \n",
       "4  Annual Average 2009 2008-12-01       22.83  "
      ]
     },
     "execution_count": 17,
     "metadata": {},
     "output_type": "execute_result"
    }
   ],
   "source": [
    "df_cleaned.head()"
   ]
  },
  {
   "cell_type": "markdown",
   "id": "a23187f5-5956-4f65-8b4a-fa5c754938e4",
   "metadata": {},
   "source": [
    "**Check for and remove any duplicate rows.**"
   ]
  },
  {
   "cell_type": "code",
   "execution_count": 19,
   "id": "237d5aa8-810a-4823-91b7-88773473a528",
   "metadata": {},
   "outputs": [
    {
     "name": "stdout",
     "output_type": "stream",
     "text": [
      "Number of rows after removing duplicates: 16218\n"
     ]
    }
   ],
   "source": [
    "# Remove duplicate rows\n",
    "df_cleaned = df_cleaned.drop_duplicates()\n",
    "\n",
    "# Verify duplicates removal\n",
    "print(f\"Number of rows after removing duplicates: {df_cleaned.shape[0]}\")"
   ]
  },
  {
   "cell_type": "code",
   "execution_count": 20,
   "id": "ee2b2a0f-e750-48ac-b3b3-59ca56852064",
   "metadata": {},
   "outputs": [
    {
     "name": "stdout",
     "output_type": "stream",
     "text": [
      "<class 'pandas.core.frame.DataFrame'>\n",
      "RangeIndex: 16218 entries, 0 to 16217\n",
      "Data columns (total 11 columns):\n",
      " #   Column          Non-Null Count  Dtype         \n",
      "---  ------          --------------  -----         \n",
      " 0   Unique ID       16218 non-null  int64         \n",
      " 1   Indicator ID    16218 non-null  int64         \n",
      " 2   Name            16218 non-null  object        \n",
      " 3   Measure         16218 non-null  object        \n",
      " 4   Measure Info    16218 non-null  object        \n",
      " 5   Geo Type Name   16218 non-null  object        \n",
      " 6   Geo Join ID     16218 non-null  int64         \n",
      " 7   Geo Place Name  16218 non-null  object        \n",
      " 8   Time Period     16218 non-null  object        \n",
      " 9   Start_Date      16218 non-null  datetime64[ns]\n",
      " 10  Data Value      16218 non-null  float64       \n",
      "dtypes: datetime64[ns](1), float64(1), int64(3), object(6)\n",
      "memory usage: 1.4+ MB\n"
     ]
    }
   ],
   "source": [
    "df_cleaned.info()"
   ]
  },
  {
   "cell_type": "markdown",
   "id": "359cd1e8-345f-4aa0-b3f9-64f10c3e6364",
   "metadata": {},
   "source": [
    "**Handling Outliers**"
   ]
  },
  {
   "cell_type": "code",
   "execution_count": 22,
   "id": "df580be8-882a-4782-a3d9-74d54c68aaa1",
   "metadata": {},
   "outputs": [
    {
     "data": {
      "text/plain": [
       "<Axes: ylabel='Data Value'>"
      ]
     },
     "execution_count": 22,
     "metadata": {},
     "output_type": "execute_result"
    },
    {
     "data": {
      "image/png": "[encoded data removed]",
      "text/plain": [
       "<Figure size 640x480 with 1 Axes>"
      ]
     },
     "metadata": {},
     "output_type": "display_data"
    }
   ],
   "source": [
    "sns.boxplot(df['Data Value'])"
   ]
  },
  {
   "cell_type": "code",
   "execution_count": 23,
   "id": "83a4a8c5-0b26-4bec-89a5-20c1f69844fc",
   "metadata": {},
   "outputs": [
    {
     "data": {
      "text/plain": [
       "count    16218.000000\n",
       "mean        19.975917\n",
       "std         21.322349\n",
       "min          0.000000\n",
       "25%          9.050000\n",
       "50%         15.300000\n",
       "75%         26.037500\n",
       "max        424.700000\n",
       "Name: Data Value, dtype: float64"
      ]
     },
     "execution_count": 23,
     "metadata": {},
     "output_type": "execute_result"
    }
   ],
   "source": [
    "df['Data Value'].describe()"
   ]
  },
  {
   "cell_type": "code",
   "execution_count": 80,
   "id": "886d3dd5-7d6f-4813-a3fb-a3d40dcc332e",
   "metadata": {},
   "outputs": [],
   "source": [
    "# Calculate Q1 (25th percentile) and Q3 (75th percentile)\n",
    "Q1 = df_cleaned['Data Value'].quantile(0.25)\n",
    "Q3 = df_cleaned['Data Value'].quantile(0.75)\n",
    "IQR = Q3 - Q1\n",
    "\n",
    "# Define the lower and upper bounds for outliers\n",
    "lower_bound = Q1 - 1.5 * IQR\n",
    "upper_bound = Q3 + 1.5 * IQR\n",
    "\n",
    "# Filter out the outliers\n",
    "filtered_data = df_cleaned[(df_cleaned['Data Value'] >= lower_bound) & (df_cleaned['Data Value'] <= upper_bound)]\n",
    "\n",
    "# Optionally, replace outliers with the median\n",
    "df_cleaned['Data Value'] = df_cleaned['Data Value'].apply(lambda x: median if x < lower_bound or x > upper_bound else x)"
   ]
  },
  {
   "cell_type": "code",
   "execution_count": 82,
   "id": "fed52d83-643c-40f1-be0a-f18f1351cd43",
   "metadata": {},
   "outputs": [
    {
     "data": {
      "text/plain": [
       "<Axes: ylabel='Data Value'>"
      ]
     },
     "execution_count": 82,
     "metadata": {},
     "output_type": "execute_result"
    },
    {
     "data": {
      "image/png": "[encoded data removed]",
      "text/plain": [
       "<Figure size 640x480 with 1 Axes>"
      ]
     },
     "metadata": {},
     "output_type": "display_data"
    }
   ],
   "source": [
    "sns.boxplot(df['Data Value'])"
   ]
  },
  {
   "cell_type": "markdown",
   "id": "750a0fe0-8ae4-42f8-84ec-d3e19a5f0760",
   "metadata": {},
   "source": [
    "## Data Transformation ##"
   ]
  },
  {
   "cell_type": "markdown",
   "id": "09df7329-44af-4093-b483-3da85411d9d1",
   "metadata": {},
   "source": [
    "Normalization/Standardization:\n",
    "Normalize the Data Value to a range (e.g., [0, 1]) or standardize it to have a mean of 0 and a standard deviation of 1 to facilitate comparisons across different locations and time periods.\n",
    "Sources"
   ]
  },
  {
   "cell_type": "code",
   "execution_count": 96,
   "id": "2a25f39e-0713-4c30-8b62-103ab5c220d7",
   "metadata": {},
   "outputs": [
    {
     "name": "stdout",
     "output_type": "stream",
     "text": [
      "Initial Data Info:\n",
      "<class 'pandas.core.frame.DataFrame'>\n",
      "RangeIndex: 16218 entries, 0 to 16217\n",
      "Data columns (total 13 columns):\n",
      " #   Column                   Non-Null Count  Dtype         \n",
      "---  ------                   --------------  -----         \n",
      " 0   Unique ID                16218 non-null  int64         \n",
      " 1   Indicator ID             16218 non-null  int64         \n",
      " 2   Name                     16218 non-null  object        \n",
      " 3   Measure                  16218 non-null  object        \n",
      " 4   Measure Info             16218 non-null  object        \n",
      " 5   Geo Type Name            16218 non-null  object        \n",
      " 6   Geo Join ID              16218 non-null  int64         \n",
      " 7   Geo Place Name           16218 non-null  object        \n",
      " 8   Time Period              16218 non-null  object        \n",
      " 9   Start_Date               16218 non-null  datetime64[ns]\n",
      " 10  Data Value               16218 non-null  float64       \n",
      " 11  Normalized Data Value    16218 non-null  float64       \n",
      " 12  Standardized Data Value  16218 non-null  float64       \n",
      "dtypes: datetime64[ns](1), float64(3), int64(3), object(6)\n",
      "memory usage: 1.6+ MB\n",
      "None\n",
      "\n",
      "Transformed Data:\n",
      "   Unique ID  Data Value  Normalized Data Value  Standardized Data Value\n",
      "0     172653       25.30               0.522795                 0.841292\n",
      "1     172585       26.93               0.556477                 1.006885\n",
      "2     336637       19.09               0.394472                 0.210412\n",
      "3     336622       19.76               0.408317                 0.278478\n",
      "4     172582       22.83               0.471755                 0.590362\n"
     ]
    }
   ],
   "source": [
    "from sklearn.preprocessing import MinMaxScaler, StandardScaler\n",
    "\n",
    "# Display initial data information\n",
    "print(\"Initial Data Info:\")\n",
    "print(df_cleaned.info())\n",
    "\n",
    "# Normalize the 'Data Value' to a range [0, 1]\n",
    "min_max_scaler = MinMaxScaler()\n",
    "df_cleaned['Normalized Data Value'] = min_max_scaler.fit_transform(df_cleaned[['Data Value']])\n",
    "\n",
    "# Standardize the 'Data Value' to have a mean of 0 and a standard deviation of 1\n",
    "standard_scaler = StandardScaler()\n",
    "df_cleaned['Standardized Data Value'] = standard_scaler.fit_transform(df_cleaned[['Data Value']])\n",
    "\n",
    "# Display the transformed data\n",
    "print(\"\\nTransformed Data:\")\n",
    "print(df_cleaned[['Unique ID', 'Data Value', 'Normalized Data Value', 'Standardized Data Value']].head())"
   ]
  },
  {
   "cell_type": "markdown",
   "id": "6b1eaee8-5cf2-49c0-aa38-fccea6599bbe",
   "metadata": {},
   "source": [
    "Encoding Categorical Variables:\n",
    "Convert categorical variables like Geo Place Name and Measure Info into numerical formats using one-hot encoding or label encoding, enabling their use in machine learning models."
   ]
  },
  {
   "cell_type": "code",
   "execution_count": 99,
   "id": "4e7077b2-210c-4761-b956-3bbb1fb83bf2",
   "metadata": {},
   "outputs": [
    {
     "name": "stdout",
     "output_type": "stream",
     "text": [
      "Initial Data Info:\n",
      "<class 'pandas.core.frame.DataFrame'>\n",
      "RangeIndex: 16218 entries, 0 to 16217\n",
      "Data columns (total 13 columns):\n",
      " #   Column                   Non-Null Count  Dtype         \n",
      "---  ------                   --------------  -----         \n",
      " 0   Unique ID                16218 non-null  int64         \n",
      " 1   Indicator ID             16218 non-null  int64         \n",
      " 2   Name                     16218 non-null  object        \n",
      " 3   Measure                  16218 non-null  object        \n",
      " 4   Measure Info             16218 non-null  object        \n",
      " 5   Geo Type Name            16218 non-null  object        \n",
      " 6   Geo Join ID              16218 non-null  int64         \n",
      " 7   Geo Place Name           16218 non-null  object        \n",
      " 8   Time Period              16218 non-null  object        \n",
      " 9   Start_Date               16218 non-null  datetime64[ns]\n",
      " 10  Data Value               16218 non-null  float64       \n",
      " 11  Normalized Data Value    16218 non-null  float64       \n",
      " 12  Standardized Data Value  16218 non-null  float64       \n",
      "dtypes: datetime64[ns](1), float64(3), int64(3), object(6)\n",
      "memory usage: 1.6+ MB\n",
      "None\n",
      "\n",
      "Transformed Data with One-Hot Encoding:\n",
      "   Unique ID  Indicator ID                    Name Measure Geo Type Name  \\\n",
      "0     172653           375  Nitrogen dioxide (NO2)    Mean         UHF34   \n",
      "1     172585           375  Nitrogen dioxide (NO2)    Mean         UHF34   \n",
      "2     336637           375  Nitrogen dioxide (NO2)    Mean         UHF34   \n",
      "3     336622           375  Nitrogen dioxide (NO2)    Mean         UHF34   \n",
      "4     172582           375  Nitrogen dioxide (NO2)    Mean         UHF34   \n",
      "\n",
      "   Geo Join ID          Time Period Start_Date  Data Value  \\\n",
      "0          203  Annual Average 2011 2010-12-01       25.30   \n",
      "1          203  Annual Average 2009 2008-12-01       26.93   \n",
      "2          204  Annual Average 2015 2015-01-01       19.09   \n",
      "3          103  Annual Average 2015 2015-01-01       19.76   \n",
      "4          104  Annual Average 2009 2008-12-01       22.83   \n",
      "\n",
      "   Normalized Data Value  ...  Place_Willowbrook  \\\n",
      "0               0.522795  ...              False   \n",
      "1               0.556477  ...              False   \n",
      "2               0.394472  ...              False   \n",
      "3               0.408317  ...              False   \n",
      "4               0.471755  ...              False   \n",
      "\n",
      "   Place_Woodside and Sunnyside (CD2)  Measure_mcg/m3  Measure_number  \\\n",
      "0                               False           False           False   \n",
      "1                               False           False           False   \n",
      "2                               False           False           False   \n",
      "3                               False           False           False   \n",
      "4                               False           False           False   \n",
      "\n",
      "   Measure_per 100,000  Measure_per 100,000 adults  \\\n",
      "0                False                       False   \n",
      "1                False                       False   \n",
      "2                False                       False   \n",
      "3                False                       False   \n",
      "4                False                       False   \n",
      "\n",
      "   Measure_per 100,000 children  Measure_per km2  Measure_ppb  Measure_µg/m3  \n",
      "0                         False            False         True          False  \n",
      "1                         False            False         True          False  \n",
      "2                         False            False         True          False  \n",
      "3                         False            False         True          False  \n",
      "4                         False            False         True          False  \n",
      "\n",
      "[5 rows x 133 columns]\n",
      "\n",
      "Transformed Data with Label Encoding:\n",
      "   Unique ID  Indicator ID                    Name Measure  Measure Info  \\\n",
      "0     172653           375  Nitrogen dioxide (NO2)    Mean             6   \n",
      "1     172585           375  Nitrogen dioxide (NO2)    Mean             6   \n",
      "2     336637           375  Nitrogen dioxide (NO2)    Mean             6   \n",
      "3     336622           375  Nitrogen dioxide (NO2)    Mean             6   \n",
      "4     172582           375  Nitrogen dioxide (NO2)    Mean             6   \n",
      "\n",
      "  Geo Type Name  Geo Join ID  Geo Place Name          Time Period Start_Date  \\\n",
      "0         UHF34          203               5  Annual Average 2011 2010-12-01   \n",
      "1         UHF34          203               5  Annual Average 2009 2008-12-01   \n",
      "2         UHF34          204              30  Annual Average 2015 2015-01-01   \n",
      "3         UHF34          103              38  Annual Average 2015 2015-01-01   \n",
      "4         UHF34          104              73  Annual Average 2009 2008-12-01   \n",
      "\n",
      "   Data Value  Normalized Data Value  Standardized Data Value  \n",
      "0       25.30               0.522795                 0.841292  \n",
      "1       26.93               0.556477                 1.006885  \n",
      "2       19.09               0.394472                 0.210412  \n",
      "3       19.76               0.408317                 0.278478  \n",
      "4       22.83               0.471755                 0.590362  \n"
     ]
    }
   ],
   "source": [
    "# Display initial data information\n",
    "print(\"Initial Data Info:\")\n",
    "print(df_cleaned.info())\n",
    "\n",
    "# **One-Hot Encoding**\n",
    "# Convert categorical variable 'Geo Place Name' into one-hot encoded format\n",
    "data_one_hot = pd.get_dummies(df_cleaned, columns=['Geo Place Name'], prefix='Place')\n",
    "\n",
    "# Convert categorical variable 'Measure Info' into one-hot encoded format\n",
    "data_one_hot = pd.get_dummies(data_one_hot, columns=['Measure Info'], prefix='Measure')\n",
    "\n",
    "# **Label Encoding** (alternative method)\n",
    "from sklearn.preprocessing import LabelEncoder\n",
    "\n",
    "# Create a copy of the original data for label encoding\n",
    "data_label_encoded = df_cleaned.copy()\n",
    "\n",
    "# Initialize the label encoder\n",
    "label_encoder = LabelEncoder()\n",
    "\n",
    "# Encode 'Geo Place Name'\n",
    "data_label_encoded['Geo Place Name'] = label_encoder.fit_transform(data_label_encoded['Geo Place Name'])\n",
    "\n",
    "# Encode 'Measure Info'\n",
    "data_label_encoded['Measure Info'] = label_encoder.fit_transform(data_label_encoded['Measure Info'])\n",
    "\n",
    "# Display transformed data\n",
    "print(\"\\nTransformed Data with One-Hot Encoding:\")\n",
    "print(data_one_hot.head())\n",
    "\n",
    "print(\"\\nTransformed Data with Label Encoding:\")\n",
    "print(data_label_encoded.head())"
   ]
  },
  {
   "cell_type": "code",
   "execution_count": null,
   "id": "562dba27-a95f-479f-94cc-40e27bfd3c21",
   "metadata": {},
   "outputs": [],
   "source": []
  }
 ],
 "metadata": {
  "kernelspec": {
   "display_name": "Python 3 (ipykernel)",
   "language": "python",
   "name": "python3"
  },
  "language_info": {
   "codemirror_mode": {
    "name": "ipython",
    "version": 3
   },
   "file_extension": ".py",
   "mimetype": "text/x-python",
   "name": "python",
   "nbconvert_exporter": "python",
   "pygments_lexer": "ipython3",
   "version": "3.12.4"
  }
 },
 "nbformat": 4,
 "nbformat_minor": 5
}
